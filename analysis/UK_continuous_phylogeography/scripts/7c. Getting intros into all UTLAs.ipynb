{
 "cells": [
  {
   "cell_type": "code",
   "execution_count": 1,
   "metadata": {},
   "outputs": [
    {
     "data": {
      "text/plain": [
       "131072"
      ]
     },
     "execution_count": 1,
     "metadata": {},
     "output_type": "execute_result"
    }
   ],
   "source": [
    "import sys\n",
    "import matplotlib.pyplot as plt\n",
    "import matplotlib.ticker as plticker\n",
    "from matplotlib import cm\n",
    "from collections import Counter\n",
    "from collections import defaultdict\n",
    "import numpy as np\n",
    "import datetime as dt\n",
    "import geopandas as gpd\n",
    "import csv\n",
    "import tqdm\n",
    "import pandas as pd\n",
    "import matplotlib\n",
    "import os\n",
    "\n",
    "from epiweeks import Week,Year\n",
    "\n",
    "csv.field_size_limit(sys.maxsize)"
   ]
  },
  {
   "cell_type": "code",
   "execution_count": 2,
   "metadata": {},
   "outputs": [],
   "source": [
    "uk_map = gpd.read_file(\"../../Data/UK_geog_data/UK_map.json\")\n",
    "uk_map = uk_map.to_crs(\"EPSG:3395\")\n",
    "england = uk_map.loc[uk_map[\"NAME_1\"] == \"England\"]\n",
    "\n",
    "pc_map = gpd.read_file(\"../../Data/UK_geog_data/England_postcode_districts.json\")\n",
    "pc_map.crs = \"epsg:27700\"\n",
    "pc_map = pc_map.to_crs(\"epsg:3395\")\n",
    "\n",
    "utla_map = gpd.read_file(\"../../Data/UK_geog_data/UTLA_administrative_areas.json\")\n",
    "utla_map = utla_map.to_crs(\"EPSG:3395\")\n",
    "england_utla = utla_map.loc[utla_map['CODE'].str.startswith(\"E\")]\n",
    "\n",
    "\n",
    "def true_date(date):\n",
    "    \n",
    "    year = str(date).split(\".\")[0]\n",
    "    decimal = f'0.{str(date).split(\".\")[1]}'\n",
    "    \n",
    "    if year == '2020':\n",
    "        day_no = float(decimal) * 366\n",
    "    else:\n",
    "        day_no = float(decimal) * 365\n",
    "        \n",
    "    delta = dt.timedelta(day_no)\n",
    "    \n",
    "    start = dt.date(year=int(year), month=1, day=1)\n",
    "    tr_date = start + delta\n",
    "    \n",
    "    return str(tr_date)\n",
    "\n",
    "def decimal_date(date):\n",
    "    \n",
    "    if type(date) == str:\n",
    "        date = dt.datetime.strptime(date,\"%Y-%m-%d\").date()\n",
    "    year = date.year\n",
    "    if year == 2020:\n",
    "        div = 366\n",
    "    else:\n",
    "        div = 365\n",
    "    start = dt.date(year=year, month=1, day=1)\n",
    "    decimal = (date - start).days/div\n",
    "    \n",
    "    dec_date = year + decimal\n",
    "    return dec_date\n",
    "\n"
   ]
  },
  {
   "cell_type": "code",
   "execution_count": 3,
   "metadata": {},
   "outputs": [],
   "source": [
    "all_codes = []\n",
    "code_to_name = {}\n",
    "name_to_code = {}\n",
    "ltla_code_to_utla_code = {}\n",
    "with open(\"../../Data/LAD_UTLA_adm2.csv\") as f:\n",
    "    data = csv.DictReader(f)\n",
    "    for l in data:\n",
    "        if \"E\" in l['UTLA_code']:\n",
    "            all_codes.append(l['UTLA_code'])\n",
    "            code_to_name[l['UTLA_code']] = l['UTLA_name']\n",
    "            name_to_code[l['UTLA_name']] = l[\"UTLA_code\"]\n",
    "            ltla_code_to_utla_code[l['LAD_code']] = l['UTLA_code']\n",
    "            \n",
    "code_to_name[\"E13000001|E13000002\"] = \"GREATER LONDON\"\n",
    "name_to_code[\"GREATER LONDON\"] = \"E13000001|E13000002\""
   ]
  },
  {
   "cell_type": "code",
   "execution_count": 4,
   "metadata": {},
   "outputs": [
    {
     "data": {
      "text/plain": [
       "'E11000001'"
      ]
     },
     "execution_count": 4,
     "metadata": {},
     "output_type": "execute_result"
    }
   ],
   "source": [
    "ltla_code_to_utla_code[\"E08000006\"]"
   ]
  },
  {
   "cell_type": "code",
   "execution_count": 5,
   "metadata": {},
   "outputs": [],
   "source": [
    "for k,v in ltla_code_to_utla_code.items():\n",
    "    if v == \"\":\n",
    "        print(k,v)"
   ]
  },
  {
   "cell_type": "code",
   "execution_count": 6,
   "metadata": {},
   "outputs": [],
   "source": [
    "list_of_dates = []\n",
    "start_date = dt.date(2021,3,1)\n",
    "end_date = dt.date(2021,7,1)\n",
    "day = dt.timedelta(1)\n",
    "\n",
    "date_lst = [start_date + dt.timedelta(n) for n in range(int ((end_date - start_date).days))]\n",
    "date_strings = []\n",
    "for i in date_lst:\n",
    "    date_strings.append(i.strftime(format=\"%Y-%m-%d\"))"
   ]
  },
  {
   "cell_type": "markdown",
   "metadata": {},
   "source": [
    "## get info"
   ]
  },
  {
   "cell_type": "code",
   "execution_count": 8,
   "metadata": {},
   "outputs": [
    {
     "name": "stderr",
     "output_type": "stream",
     "text": [
      "100%|██████████| 266/266 [00:03<00:00, 85.51it/s] \n"
     ]
    }
   ],
   "source": [
    "utlas_to_intros = defaultdict(list)\n",
    "shapefile_code_to_name = {}\n",
    "for file in tqdm.tqdm(os.listdir(\"../results/MCC_files_all/\")):\n",
    "    if file.endswith(\".csv\"):\n",
    "        lin = file.strip(\".csv\").split(\"_\")[0]\n",
    "        with open(f\"../results/MCC_files_all/{file}\") as f:\n",
    "            data = csv.DictReader(f)\n",
    "            for l in data:\n",
    "                if l['end_utla'] != l['start_utla']:\n",
    "                    if l['end_code'] in ltla_code_to_utla_code:\n",
    "                        e_code = ltla_code_to_utla_code[l['end_code']]\n",
    "                    else:\n",
    "                        e_code = l['end_code']\n",
    "                    if l['start_code'] in ltla_code_to_utla_code:\n",
    "                        s_code = ltla_code_to_utla_code[l['start_code']]\n",
    "                    else:\n",
    "                        s_code = l['start_code']\n",
    "                    \n",
    "                    if e_code != s_code:\n",
    "                        utlas_to_intros[e_code].append(l['end_real_date'])\n"
   ]
  },
  {
   "cell_type": "code",
   "execution_count": 9,
   "metadata": {
    "scrolled": true
   },
   "outputs": [],
   "source": [
    "utla_intro_counts = defaultdict(dict)\n",
    "for utla, dates in utlas_to_intros.items():\n",
    "    utla_intro_counts[utla] = Counter(dates)"
   ]
  },
  {
   "cell_type": "code",
   "execution_count": 38,
   "metadata": {
    "collapsed": true
   },
   "outputs": [
    {
     "data": {
      "text/plain": [
       "Counter({'2021-06-01': 7,\n",
       "         '2021-06-02': 6,\n",
       "         '2021-06-05': 8,\n",
       "         '2021-05-23': 3,\n",
       "         '2021-05-25': 3,\n",
       "         '2021-06-07': 5,\n",
       "         '2021-06-03': 5,\n",
       "         '2021-05-22': 2,\n",
       "         '2021-06-12': 7,\n",
       "         '2021-06-06': 8,\n",
       "         '2021-06-04': 11,\n",
       "         '2021-06-08': 7,\n",
       "         '2021-06-10': 6,\n",
       "         '2021-06-11': 7,\n",
       "         '2021-06-09': 3,\n",
       "         '2021-05-28': 2,\n",
       "         '2021-05-18': 2,\n",
       "         '2021-05-29': 3,\n",
       "         '2021-04-24': 1,\n",
       "         '2021-05-21': 1,\n",
       "         '2021-05-27': 2,\n",
       "         '2021-06-14': 4,\n",
       "         '2021-05-26': 3,\n",
       "         '2021-05-05': 1,\n",
       "         '2021-05-19': 1,\n",
       "         '2021-05-12': 1,\n",
       "         '2021-05-30': 1,\n",
       "         '2021-05-24': 1,\n",
       "         '2021-05-31': 1})"
      ]
     },
     "execution_count": 38,
     "metadata": {},
     "output_type": "execute_result"
    }
   ],
   "source": [
    "ltla_code_to_utla_code[\"\"]\n",
    "#these are exports from England - into Wales or Scotland"
   ]
  },
  {
   "cell_type": "code",
   "execution_count": 10,
   "metadata": {},
   "outputs": [],
   "source": [
    "with open(\"../results/introductions_per_utla.csv\", 'w') as fw:\n",
    "    headers = [\"day\", \"utla\", \"utla_code\", \"number_introductions\"]\n",
    "    writer=csv.DictWriter(fw, fieldnames=headers)\n",
    "    writer.writeheader()\n",
    "    for code, day_dict in utla_intro_counts.items():\n",
    "        if code != \"\":\n",
    "            for day, count in day_dict.items():\n",
    "                write_dict = {}\n",
    "                write_dict[\"day\"] = day\n",
    "                write_dict[\"utla\"] = code_to_name[code]\n",
    "                write_dict['utla_code'] = code\n",
    "                write_dict[\"number_introductions\"] = count\n",
    "\n",
    "                writer.writerow(write_dict)\n"
   ]
  },
  {
   "cell_type": "markdown",
   "metadata": {},
   "source": [
    "## Plot map"
   ]
  },
  {
   "cell_type": "code",
   "execution_count": 11,
   "metadata": {},
   "outputs": [],
   "source": [
    "london_codes = set()\n",
    "for i in england_utla.loc[england_utla[\"FILE_NAME\"] == \"GREATER_LONDON_AUTHORITY\"][\"CODE\"]:\n",
    "    london_codes.add(i)"
   ]
  },
  {
   "cell_type": "code",
   "execution_count": 12,
   "metadata": {},
   "outputs": [
    {
     "name": "stderr",
     "output_type": "stream",
     "text": [
      "/usr/local/lib/python3.7/site-packages/ipykernel_launcher.py:13: SettingWithCopyWarning: \n",
      "A value is trying to be set on a copy of a slice from a DataFrame.\n",
      "Try using .loc[row_indexer,col_indexer] = value instead\n",
      "\n",
      "See the caveats in the documentation: https://pandas.pydata.org/pandas-docs/stable/user_guide/indexing.html#returning-a-view-versus-a-copy\n",
      "  del sys.path[0]\n"
     ]
    }
   ],
   "source": [
    "to_merge = []\n",
    "for i in england_utla[\"CODE\"]:\n",
    "    if i in london_codes:\n",
    "        to_merge.append(\"E13000001\")\n",
    "    elif i in ltla_code_to_utla_code:\n",
    "        to_merge.append(ltla_code_to_utla_code[i])\n",
    "    else:\n",
    "        to_merge.append(i)\n",
    "#     elif i == \"E06000060\":\n",
    "#         to_merge.append(\"E10000002\")\n",
    "\n",
    "        \n",
    "england_utla[\"new_codes\"] = to_merge\n",
    "        "
   ]
  },
  {
   "cell_type": "code",
   "execution_count": 14,
   "metadata": {},
   "outputs": [],
   "source": [
    "with_new_codes = england_utla.dissolve(by=\"new_codes\")"
   ]
  },
  {
   "cell_type": "code",
   "execution_count": 15,
   "metadata": {},
   "outputs": [],
   "source": [
    "with_new_codes[\"CODE\"] = with_new_codes.index\n",
    "with_new_codes.to_file(\"UTLA_shapes_final\")"
   ]
  },
  {
   "cell_type": "code",
   "execution_count": 16,
   "metadata": {},
   "outputs": [
    {
     "data": {
      "text/html": [
       "<div>\n",
       "<style scoped>\n",
       "    .dataframe tbody tr th:only-of-type {\n",
       "        vertical-align: middle;\n",
       "    }\n",
       "\n",
       "    .dataframe tbody tr th {\n",
       "        vertical-align: top;\n",
       "    }\n",
       "\n",
       "    .dataframe thead th {\n",
       "        text-align: right;\n",
       "    }\n",
       "</style>\n",
       "<table border=\"1\" class=\"dataframe\">\n",
       "  <thead>\n",
       "    <tr style=\"text-align: right;\">\n",
       "      <th></th>\n",
       "      <th>geometry</th>\n",
       "      <th>NAME</th>\n",
       "      <th>AREA_CODE</th>\n",
       "      <th>DESCRIPTIO</th>\n",
       "      <th>FILE_NAME</th>\n",
       "      <th>NUMBER</th>\n",
       "      <th>NUMBER0</th>\n",
       "      <th>POLYGON_ID</th>\n",
       "      <th>UNIT_ID</th>\n",
       "      <th>CODE</th>\n",
       "      <th>HECTARES</th>\n",
       "      <th>AREA</th>\n",
       "      <th>TYPE_CODE</th>\n",
       "      <th>DESCRIPT0</th>\n",
       "      <th>TYPE_COD0</th>\n",
       "      <th>DESCRIPT1</th>\n",
       "    </tr>\n",
       "    <tr>\n",
       "      <th>new_codes</th>\n",
       "      <th></th>\n",
       "      <th></th>\n",
       "      <th></th>\n",
       "      <th></th>\n",
       "      <th></th>\n",
       "      <th></th>\n",
       "      <th></th>\n",
       "      <th></th>\n",
       "      <th></th>\n",
       "      <th></th>\n",
       "      <th></th>\n",
       "      <th></th>\n",
       "      <th></th>\n",
       "      <th></th>\n",
       "      <th></th>\n",
       "      <th></th>\n",
       "    </tr>\n",
       "  </thead>\n",
       "  <tbody>\n",
       "    <tr>\n",
       "      <th>E06000001</th>\n",
       "      <td>POLYGON ((-137993.516 7273547.844, -138001.882...</td>\n",
       "      <td>Hartlepool (B)</td>\n",
       "      <td>UTA</td>\n",
       "      <td>Unitary Authority</td>\n",
       "      <td>HARTLEPOOL_(B)</td>\n",
       "      <td>48</td>\n",
       "      <td>48</td>\n",
       "      <td>125831</td>\n",
       "      <td>25589</td>\n",
       "      <td>E06000001</td>\n",
       "      <td>9834.667</td>\n",
       "      <td>463.404</td>\n",
       "      <td>AA</td>\n",
       "      <td>CIVIL ADMINISTRATION AREA</td>\n",
       "      <td></td>\n",
       "      <td></td>\n",
       "    </tr>\n",
       "    <tr>\n",
       "      <th>E06000002</th>\n",
       "      <td>POLYGON ((-127592.575 7231149.718, -127594.618...</td>\n",
       "      <td>Middlesbrough (B)</td>\n",
       "      <td>UTA</td>\n",
       "      <td>Unitary Authority</td>\n",
       "      <td>MIDDLESBROUGH_(B)</td>\n",
       "      <td>43</td>\n",
       "      <td>43</td>\n",
       "      <td>71579</td>\n",
       "      <td>25586</td>\n",
       "      <td>E06000002</td>\n",
       "      <td>5455.359</td>\n",
       "      <td>67.202</td>\n",
       "      <td>AA</td>\n",
       "      <td>CIVIL ADMINISTRATION AREA</td>\n",
       "      <td></td>\n",
       "      <td></td>\n",
       "    </tr>\n",
       "    <tr>\n",
       "      <th>E06000003</th>\n",
       "      <td>POLYGON ((-128904.662 7255416.296, -128907.807...</td>\n",
       "      <td>Redcar and Cleveland (B)</td>\n",
       "      <td>UTA</td>\n",
       "      <td>Unitary Authority</td>\n",
       "      <td>REDCAR_AND_CLEVELAND_(B)</td>\n",
       "      <td>34</td>\n",
       "      <td>34</td>\n",
       "      <td>71583</td>\n",
       "      <td>25588</td>\n",
       "      <td>E06000003</td>\n",
       "      <td>25378.536</td>\n",
       "      <td>871.585</td>\n",
       "      <td>AA</td>\n",
       "      <td>CIVIL ADMINISTRATION AREA</td>\n",
       "      <td></td>\n",
       "      <td></td>\n",
       "    </tr>\n",
       "    <tr>\n",
       "      <th>E06000004</th>\n",
       "      <td>POLYGON ((-137463.164 7232583.398, -137513.985...</td>\n",
       "      <td>Stockton-on-Tees (B)</td>\n",
       "      <td>UTA</td>\n",
       "      <td>Unitary Authority</td>\n",
       "      <td>STOCKTON-ON-TEES_(B)</td>\n",
       "      <td>95</td>\n",
       "      <td>95</td>\n",
       "      <td>71582</td>\n",
       "      <td>25587</td>\n",
       "      <td>E06000004</td>\n",
       "      <td>20973.081</td>\n",
       "      <td>479.786</td>\n",
       "      <td>AA</td>\n",
       "      <td>CIVIL ADMINISTRATION AREA</td>\n",
       "      <td></td>\n",
       "      <td></td>\n",
       "    </tr>\n",
       "    <tr>\n",
       "      <th>E06000005</th>\n",
       "      <td>POLYGON ((-159731.757 7228218.532, -159711.528...</td>\n",
       "      <td>Darlington (B)</td>\n",
       "      <td>UTA</td>\n",
       "      <td>Unitary Authority</td>\n",
       "      <td>DARLINGTON_(B)</td>\n",
       "      <td>57</td>\n",
       "      <td>57</td>\n",
       "      <td>100101</td>\n",
       "      <td>38404</td>\n",
       "      <td>E06000005</td>\n",
       "      <td>19747.569</td>\n",
       "      <td>0.000</td>\n",
       "      <td>AA</td>\n",
       "      <td>CIVIL ADMINISTRATION AREA</td>\n",
       "      <td></td>\n",
       "      <td></td>\n",
       "    </tr>\n",
       "    <tr>\n",
       "      <th>...</th>\n",
       "      <td>...</td>\n",
       "      <td>...</td>\n",
       "      <td>...</td>\n",
       "      <td>...</td>\n",
       "      <td>...</td>\n",
       "      <td>...</td>\n",
       "      <td>...</td>\n",
       "      <td>...</td>\n",
       "      <td>...</td>\n",
       "      <td>...</td>\n",
       "      <td>...</td>\n",
       "      <td>...</td>\n",
       "      <td>...</td>\n",
       "      <td>...</td>\n",
       "      <td>...</td>\n",
       "      <td>...</td>\n",
       "    </tr>\n",
       "    <tr>\n",
       "      <th>E11000003</th>\n",
       "      <td>POLYGON ((-147461.434 7009752.372, -147467.787...</td>\n",
       "      <td>Barnsley District (B)</td>\n",
       "      <td>MTD</td>\n",
       "      <td>Metropolitan District</td>\n",
       "      <td>BARNSLEY_DISTRICT_(B)</td>\n",
       "      <td>65</td>\n",
       "      <td>65</td>\n",
       "      <td>50242</td>\n",
       "      <td>9182</td>\n",
       "      <td>E11000003</td>\n",
       "      <td>32907.759</td>\n",
       "      <td>0.000</td>\n",
       "      <td>AA</td>\n",
       "      <td>CIVIL ADMINISTRATION AREA</td>\n",
       "      <td></td>\n",
       "      <td></td>\n",
       "    </tr>\n",
       "    <tr>\n",
       "      <th>E11000005</th>\n",
       "      <td>POLYGON ((-177609.810 6849080.312, -177603.874...</td>\n",
       "      <td>Birmingham District (B)</td>\n",
       "      <td>MTD</td>\n",
       "      <td>Metropolitan District</td>\n",
       "      <td>BIRMINGHAM_DISTRICT_(B)</td>\n",
       "      <td>69</td>\n",
       "      <td>69</td>\n",
       "      <td>40111</td>\n",
       "      <td>18</td>\n",
       "      <td>E11000005</td>\n",
       "      <td>26779.106</td>\n",
       "      <td>0.000</td>\n",
       "      <td>AA</td>\n",
       "      <td>CIVIL ADMINISTRATION AREA</td>\n",
       "      <td></td>\n",
       "      <td></td>\n",
       "    </tr>\n",
       "    <tr>\n",
       "      <th>E11000006</th>\n",
       "      <td>POLYGON ((-176602.830 7061684.845, -176666.592...</td>\n",
       "      <td>Wakefield District (B)</td>\n",
       "      <td>MTD</td>\n",
       "      <td>Metropolitan District</td>\n",
       "      <td>WAKEFIELD_DISTRICT_(B)</td>\n",
       "      <td>18</td>\n",
       "      <td>18</td>\n",
       "      <td>61077</td>\n",
       "      <td>16758</td>\n",
       "      <td>E11000006</td>\n",
       "      <td>33861.973</td>\n",
       "      <td>0.000</td>\n",
       "      <td>AA</td>\n",
       "      <td>CIVIL ADMINISTRATION AREA</td>\n",
       "      <td></td>\n",
       "      <td></td>\n",
       "    </tr>\n",
       "    <tr>\n",
       "      <th>E11000007</th>\n",
       "      <td>POLYGON ((-151737.029 7316019.166, -151742.532...</td>\n",
       "      <td>Sunderland District (B)</td>\n",
       "      <td>MTD</td>\n",
       "      <td>Metropolitan District</td>\n",
       "      <td>SUNDERLAND_DISTRICT_(B)</td>\n",
       "      <td>20</td>\n",
       "      <td>20</td>\n",
       "      <td>50083</td>\n",
       "      <td>9731</td>\n",
       "      <td>E11000007</td>\n",
       "      <td>13961.795</td>\n",
       "      <td>218.170</td>\n",
       "      <td>AA</td>\n",
       "      <td>CIVIL ADMINISTRATION AREA</td>\n",
       "      <td></td>\n",
       "      <td></td>\n",
       "    </tr>\n",
       "    <tr>\n",
       "      <th>E13000001</th>\n",
       "      <td>POLYGON ((23411.266 6674239.210, 23494.616 667...</td>\n",
       "      <td>Kingston upon Thames London Boro</td>\n",
       "      <td>LBO</td>\n",
       "      <td>London Borough</td>\n",
       "      <td>GREATER_LONDON_AUTHORITY</td>\n",
       "      <td>333</td>\n",
       "      <td>333</td>\n",
       "      <td>50448</td>\n",
       "      <td>11412</td>\n",
       "      <td>E13000001</td>\n",
       "      <td>3725.942</td>\n",
       "      <td>0.000</td>\n",
       "      <td>AA</td>\n",
       "      <td>CIVIL ADMINISTRATION AREA</td>\n",
       "      <td></td>\n",
       "      <td></td>\n",
       "    </tr>\n",
       "  </tbody>\n",
       "</table>\n",
       "<p>89 rows × 16 columns</p>\n",
       "</div>"
      ],
      "text/plain": [
       "                                                    geometry  \\\n",
       "new_codes                                                      \n",
       "E06000001  POLYGON ((-137993.516 7273547.844, -138001.882...   \n",
       "E06000002  POLYGON ((-127592.575 7231149.718, -127594.618...   \n",
       "E06000003  POLYGON ((-128904.662 7255416.296, -128907.807...   \n",
       "E06000004  POLYGON ((-137463.164 7232583.398, -137513.985...   \n",
       "E06000005  POLYGON ((-159731.757 7228218.532, -159711.528...   \n",
       "...                                                      ...   \n",
       "E11000003  POLYGON ((-147461.434 7009752.372, -147467.787...   \n",
       "E11000005  POLYGON ((-177609.810 6849080.312, -177603.874...   \n",
       "E11000006  POLYGON ((-176602.830 7061684.845, -176666.592...   \n",
       "E11000007  POLYGON ((-151737.029 7316019.166, -151742.532...   \n",
       "E13000001  POLYGON ((23411.266 6674239.210, 23494.616 667...   \n",
       "\n",
       "                                       NAME AREA_CODE             DESCRIPTIO  \\\n",
       "new_codes                                                                      \n",
       "E06000001                    Hartlepool (B)       UTA      Unitary Authority   \n",
       "E06000002                 Middlesbrough (B)       UTA      Unitary Authority   \n",
       "E06000003          Redcar and Cleveland (B)       UTA      Unitary Authority   \n",
       "E06000004              Stockton-on-Tees (B)       UTA      Unitary Authority   \n",
       "E06000005                    Darlington (B)       UTA      Unitary Authority   \n",
       "...                                     ...       ...                    ...   \n",
       "E11000003             Barnsley District (B)       MTD  Metropolitan District   \n",
       "E11000005           Birmingham District (B)       MTD  Metropolitan District   \n",
       "E11000006            Wakefield District (B)       MTD  Metropolitan District   \n",
       "E11000007           Sunderland District (B)       MTD  Metropolitan District   \n",
       "E13000001  Kingston upon Thames London Boro       LBO         London Borough   \n",
       "\n",
       "                          FILE_NAME  NUMBER  NUMBER0  POLYGON_ID  UNIT_ID  \\\n",
       "new_codes                                                                   \n",
       "E06000001            HARTLEPOOL_(B)      48       48      125831    25589   \n",
       "E06000002         MIDDLESBROUGH_(B)      43       43       71579    25586   \n",
       "E06000003  REDCAR_AND_CLEVELAND_(B)      34       34       71583    25588   \n",
       "E06000004      STOCKTON-ON-TEES_(B)      95       95       71582    25587   \n",
       "E06000005            DARLINGTON_(B)      57       57      100101    38404   \n",
       "...                             ...     ...      ...         ...      ...   \n",
       "E11000003     BARNSLEY_DISTRICT_(B)      65       65       50242     9182   \n",
       "E11000005   BIRMINGHAM_DISTRICT_(B)      69       69       40111       18   \n",
       "E11000006    WAKEFIELD_DISTRICT_(B)      18       18       61077    16758   \n",
       "E11000007   SUNDERLAND_DISTRICT_(B)      20       20       50083     9731   \n",
       "E13000001  GREATER_LONDON_AUTHORITY     333      333       50448    11412   \n",
       "\n",
       "                CODE   HECTARES     AREA TYPE_CODE                  DESCRIPT0  \\\n",
       "new_codes                                                                       \n",
       "E06000001  E06000001   9834.667  463.404        AA  CIVIL ADMINISTRATION AREA   \n",
       "E06000002  E06000002   5455.359   67.202        AA  CIVIL ADMINISTRATION AREA   \n",
       "E06000003  E06000003  25378.536  871.585        AA  CIVIL ADMINISTRATION AREA   \n",
       "E06000004  E06000004  20973.081  479.786        AA  CIVIL ADMINISTRATION AREA   \n",
       "E06000005  E06000005  19747.569    0.000        AA  CIVIL ADMINISTRATION AREA   \n",
       "...              ...        ...      ...       ...                        ...   \n",
       "E11000003  E11000003  32907.759    0.000        AA  CIVIL ADMINISTRATION AREA   \n",
       "E11000005  E11000005  26779.106    0.000        AA  CIVIL ADMINISTRATION AREA   \n",
       "E11000006  E11000006  33861.973    0.000        AA  CIVIL ADMINISTRATION AREA   \n",
       "E11000007  E11000007  13961.795  218.170        AA  CIVIL ADMINISTRATION AREA   \n",
       "E13000001  E13000001   3725.942    0.000        AA  CIVIL ADMINISTRATION AREA   \n",
       "\n",
       "          TYPE_COD0 DESCRIPT1  \n",
       "new_codes                      \n",
       "E06000001                      \n",
       "E06000002                      \n",
       "E06000003                      \n",
       "E06000004                      \n",
       "E06000005                      \n",
       "...             ...       ...  \n",
       "E11000003                      \n",
       "E11000005                      \n",
       "E11000006                      \n",
       "E11000007                      \n",
       "E13000001                      \n",
       "\n",
       "[89 rows x 16 columns]"
      ]
     },
     "execution_count": 16,
     "metadata": {},
     "output_type": "execute_result"
    }
   ],
   "source": [
    "with_new_codes"
   ]
  },
  {
   "cell_type": "code",
   "execution_count": 17,
   "metadata": {},
   "outputs": [
    {
     "data": {
      "text/html": [
       "<div>\n",
       "<style scoped>\n",
       "    .dataframe tbody tr th:only-of-type {\n",
       "        vertical-align: middle;\n",
       "    }\n",
       "\n",
       "    .dataframe tbody tr th {\n",
       "        vertical-align: top;\n",
       "    }\n",
       "\n",
       "    .dataframe thead th {\n",
       "        text-align: right;\n",
       "    }\n",
       "</style>\n",
       "<table border=\"1\" class=\"dataframe\">\n",
       "  <thead>\n",
       "    <tr style=\"text-align: right;\">\n",
       "      <th></th>\n",
       "      <th>geometry</th>\n",
       "      <th>NAME</th>\n",
       "      <th>AREA_CODE</th>\n",
       "      <th>DESCRIPTIO</th>\n",
       "      <th>FILE_NAME</th>\n",
       "      <th>NUMBER</th>\n",
       "      <th>NUMBER0</th>\n",
       "      <th>POLYGON_ID</th>\n",
       "      <th>UNIT_ID</th>\n",
       "      <th>CODE</th>\n",
       "      <th>HECTARES</th>\n",
       "      <th>AREA</th>\n",
       "      <th>TYPE_CODE</th>\n",
       "      <th>DESCRIPT0</th>\n",
       "      <th>TYPE_COD0</th>\n",
       "      <th>DESCRIPT1</th>\n",
       "    </tr>\n",
       "    <tr>\n",
       "      <th>new_codes</th>\n",
       "      <th></th>\n",
       "      <th></th>\n",
       "      <th></th>\n",
       "      <th></th>\n",
       "      <th></th>\n",
       "      <th></th>\n",
       "      <th></th>\n",
       "      <th></th>\n",
       "      <th></th>\n",
       "      <th></th>\n",
       "      <th></th>\n",
       "      <th></th>\n",
       "      <th></th>\n",
       "      <th></th>\n",
       "      <th></th>\n",
       "      <th></th>\n",
       "    </tr>\n",
       "  </thead>\n",
       "  <tbody>\n",
       "    <tr>\n",
       "      <th>E06000008</th>\n",
       "      <td>POLYGON ((-263965.002 7072906.117, -263985.202...</td>\n",
       "      <td>Blackburn with Darwen (B)</td>\n",
       "      <td>UTA</td>\n",
       "      <td>Unitary Authority</td>\n",
       "      <td>BLACKBURN_WITH_DARWEN_(B)</td>\n",
       "      <td>29</td>\n",
       "      <td>29</td>\n",
       "      <td>101590</td>\n",
       "      <td>38840</td>\n",
       "      <td>E06000008</td>\n",
       "      <td>13702.208</td>\n",
       "      <td>0.0</td>\n",
       "      <td>AA</td>\n",
       "      <td>CIVIL ADMINISTRATION AREA</td>\n",
       "      <td></td>\n",
       "      <td></td>\n",
       "    </tr>\n",
       "  </tbody>\n",
       "</table>\n",
       "</div>"
      ],
      "text/plain": [
       "                                                    geometry  \\\n",
       "new_codes                                                      \n",
       "E06000008  POLYGON ((-263965.002 7072906.117, -263985.202...   \n",
       "\n",
       "                                NAME AREA_CODE         DESCRIPTIO  \\\n",
       "new_codes                                                           \n",
       "E06000008  Blackburn with Darwen (B)       UTA  Unitary Authority   \n",
       "\n",
       "                           FILE_NAME  NUMBER  NUMBER0  POLYGON_ID  UNIT_ID  \\\n",
       "new_codes                                                                    \n",
       "E06000008  BLACKBURN_WITH_DARWEN_(B)      29       29      101590    38840   \n",
       "\n",
       "                CODE   HECTARES  AREA TYPE_CODE                  DESCRIPT0  \\\n",
       "new_codes                                                                    \n",
       "E06000008  E06000008  13702.208   0.0        AA  CIVIL ADMINISTRATION AREA   \n",
       "\n",
       "          TYPE_COD0 DESCRIPT1  \n",
       "new_codes                      \n",
       "E06000008                      "
      ]
     },
     "execution_count": 17,
     "metadata": {},
     "output_type": "execute_result"
    }
   ],
   "source": [
    "with_new_codes.loc[with_new_codes.index == \"E06000008\"]"
   ]
  },
  {
   "cell_type": "code",
   "execution_count": 18,
   "metadata": {},
   "outputs": [],
   "source": [
    "df_dict = defaultdict(list)\n",
    "code_to_total = {}\n",
    "with open(\"../results/introductions_per_utla.csv\") as f:\n",
    "    data = csv.DictReader(f)\n",
    "    for l in data:\n",
    "        total = float(l['number_introductions'])\n",
    "        code = l['utla_code']\n",
    "        if \"E13000001\" in code:\n",
    "            code = \"E13000001\"\n",
    "        \n",
    "        if code in code_to_total:\n",
    "            code_to_total[code] += total\n",
    "        else:\n",
    "            code_to_total[code] = total\n",
    "        \n",
    "for code, total in code_to_total.items(): \n",
    "    df_dict[\"CODE\"].append(code)\n",
    "    df_dict[\"intro_counts\"].append((total))\n",
    "        \n",
    "df = pd.DataFrame(df_dict)"
   ]
  },
  {
   "cell_type": "code",
   "execution_count": 19,
   "metadata": {},
   "outputs": [],
   "source": [
    "together = with_new_codes.merge(df, how='outer')\n"
   ]
  },
  {
   "cell_type": "code",
   "execution_count": 28,
   "metadata": {},
   "outputs": [],
   "source": [
    "together.to_csv(\"total_intro_counts.csv\")"
   ]
  },
  {
   "cell_type": "code",
   "execution_count": 21,
   "metadata": {},
   "outputs": [
    {
     "data": {
      "image/png": "[encoded data removed]",
      "text/plain": [
       "<Figure size 360x360 with 2 Axes>"
      ]
     },
     "metadata": {
      "needs_background": "light"
     },
     "output_type": "display_data"
    }
   ],
   "source": [
    "fig, ax = plt.subplots(1,1,figsize=(5,5))\n",
    "together[\"geometry\"] = together.geometry.simplify(1000)\n",
    "matplotlib.rcParams.update({'font.size': 15})\n",
    "\n",
    "cmap = matplotlib.colors.LinearSegmentedColormap.from_list(\"\", [\"#484C7E\",\"#FE6362\", \"#FFD544\"])\n",
    "\n",
    "together.plot(ax=ax,column=\"intro_counts\",cmap=cmap, missing_kwds={\"color\":\"lightgrey\",\"label\":\"Data omitted\"}, legend=True)\n",
    "\n",
    "ax.axis('off')\n",
    "\n",
    "new_ticks = []\n",
    "\n",
    "# norm = matplotlib.colors.Normalize(vmin=0, vmax=5)\n",
    "# bar = fig.colorbar(cm.ScalarMappable(norm=norm, cmap=cmap), ax=ax)\n",
    "# for i in bar.get_ticks():\n",
    "#     new_ticks.append(int(10**(i)))\n",
    "# bar.set_ticks(bar.get_ticks())\n",
    "# bar.set_ticklabels(new_ticks)\n",
    "\n",
    "\n",
    "\n",
    "plt.savefig(\"../figures/map_number_introductions.pdf\", bbox_inches=\"tight\")\n",
    "\n",
    "plt.show()\n",
    "                                                \n",
    "                                                   "
   ]
  },
  {
   "cell_type": "markdown",
   "metadata": {},
   "source": [
    "## New utlas sampled in per week "
   ]
  },
  {
   "cell_type": "code",
   "execution_count": 56,
   "metadata": {},
   "outputs": [],
   "source": [
    "colours = {\n",
    "\"0_67\":\"#e2ecf2\",\n",
    "\"0_92\":\"#ffd544\",\n",
    "\"0_190\":\"#fe6362\",\n",
    "\"0_322\":\"#484c7e\",\n",
    "\"0_386\":\"#bbbee9\",\n",
    "\"1_51\": \"#98c1d9\",\n",
    "\"2_337\": \"#293241\"  \n",
    "}\n",
    "\n",
    "names = {\n",
    "\"0_67\":\"Lineage IV\",\n",
    "\"0_92\":\"Lineage I\",\n",
    "\"0_190\":\"Lineage II\",\n",
    "\"0_322\":\"Lineage VI\",\n",
    "\"0_386\":\"Lineage VII\",\n",
    "\"1_51\": \"Lineage V\",\n",
    "\"2_337\": \"Lineage III\" \n",
    "}\n",
    "\n",
    "colours_renamed = {\n",
    "\"Lineage I\":\"#ffd544\",\n",
    "\"Lineage II\":\"#fe6362\",\n",
    "\"Lineage III\":\"#293241\",\n",
    "\"Lineage V\":\"#98c1d9\",\n",
    "\"Lineage IV\":\"#e2ecf2\",\n",
    "\"Lineage VI\":\"#484c7e\",\n",
    "\"Lineage VII\":\"#bbbee9\"\n",
    "}\n",
    "\n",
    "large_lins = [\"0_92\", \"0_190\", \"2_337\", \"0_67\", \"1_51\", \"0_322\", \"0_386\"]"
   ]
  },
  {
   "cell_type": "code",
   "execution_count": 30,
   "metadata": {},
   "outputs": [],
   "source": [
    "lineage_to_taxa = defaultdict(list)\n",
    "\n",
    "for intro in large_lins:\n",
    "    num_file = intro.split(\"_\")[0]\n",
    "    rel_file = f'15K_00{num_file}.median_tree.tsv'\n",
    "    lineage = intro.split(\"_\")[1]\n",
    "    with open(os.path.join(\"../input_files/median_import_tree/\",rel_file)) as f:\n",
    "        data = csv.DictReader(f, delimiter=\"\\t\")\n",
    "        for l in data:\n",
    "            if l['lineage'] == lineage:\n",
    "                value = l['taxa'].replace(\" \",\"\").split(\";\")\n",
    "                lineage_to_taxa[intro] = value\n",
    "        "
   ]
  },
  {
   "cell_type": "code",
   "execution_count": 43,
   "metadata": {},
   "outputs": [
    {
     "name": "stderr",
     "output_type": "stream",
     "text": [
      "2152986it [00:09, 215535.28it/s]\n"
     ]
    }
   ],
   "source": [
    "seq_to_date = {}\n",
    "for lin, taxa in lineage_to_taxa.items():\n",
    "    for tax in taxa:\n",
    "        seq_to_date[tax.split(\"|\")[0]] = dt.datetime.strptime(tax.split(\"|\")[1], \"%Y-%m-%d\").date()\n",
    "        \n",
    "\n",
    "seq_to_loc = {}\n",
    "with open(GEOGRAPHICAL METADATA) as f:\n",
    "    data = csv.DictReader(f)\n",
    "    for l in tqdm.tqdm(data):\n",
    "        if l['sequence_name'] in seq_to_date:\n",
    "            if \"|\" in l['utla'] or l['utla'] == \"\":\n",
    "                utla = \"ambiguous\"\n",
    "            else:\n",
    "                utla = l['utla']\n",
    "            seq_to_loc[f'{l[\"sequence_name\"]}|{seq_to_date[l[\"sequence_name\"]]}'] = utla\n",
    "\n"
   ]
  },
  {
   "cell_type": "code",
   "execution_count": 51,
   "metadata": {},
   "outputs": [
    {
     "name": "stdout",
     "output_type": "stream",
     "text": [
      "England/BRBR-18E7338/2021|2021-06-11\n",
      "England/MILK-1E6A470/2021|2021-03-12\n",
      "England/NORT-1BF2838/2021|2021-06-01\n",
      "England/QEUH-1947CEF/2021|2021-06-12\n",
      "England/BRBR-1859ED6/2021|2021-06-02\n",
      "England/PHEC-33D31D/2021|2021-06-14\n",
      "England/MILK-1990573/2021|2021-06-13\n"
     ]
    }
   ],
   "source": [
    "lin_week_loc = defaultdict(dict)\n",
    "\n",
    "for lineage, taxa in lineage_to_taxa.items():\n",
    "    if lineage in large_lins:\n",
    "        week_to_adm2 = defaultdict(set)\n",
    "        for seq in taxa:\n",
    "            week = Week.fromdate(seq_to_date[seq.split(\"|\")[0]])\n",
    "            if seq in seq_to_loc:\n",
    "                loc = seq_to_loc[seq]\n",
    "                if loc != \"ambiguous\":\n",
    "                    week_to_adm2[week].add(loc)\n",
    "            else:\n",
    "                print(seq)\n",
    "                \n",
    "        lin_week_loc[lineage] = week_to_adm2"
   ]
  },
  {
   "cell_type": "code",
   "execution_count": 57,
   "metadata": {},
   "outputs": [],
   "source": [
    "lin_to_cumulative = defaultdict(dict)\n",
    "\n",
    "for lineage in large_lins:\n",
    "# for lineage, week_dict in lin_week_loc.items():\n",
    "    week_dict = lin_week_loc[lineage]\n",
    "    already_in = set()\n",
    "    cum_locs = defaultdict(set)\n",
    "    diff_locs = {}\n",
    "    \n",
    "    for week, loc_set in sorted(week_dict.items()):\n",
    "        new_lst = []\n",
    "        last_week = len(already_in)\n",
    "        for loc in loc_set:\n",
    "            already_in.add(loc)\n",
    "\n",
    "        for i in already_in:\n",
    "            new_lst.append(i)\n",
    "            \n",
    "        cum_locs[week.startdate()] = len(new_lst)\n",
    "        \n",
    "\n",
    "    lin_to_cumulative[lineage] = cum_locs\n",
    "\n"
   ]
  },
  {
   "cell_type": "code",
   "execution_count": 58,
   "metadata": {},
   "outputs": [
    {
     "data": {
      "image/png": "[encoded data removed]",
      "text/plain": [
       "<Figure size 360x360 with 1 Axes>"
      ]
     },
     "metadata": {
      "needs_background": "light"
     },
     "output_type": "display_data"
    }
   ],
   "source": [
    "fig, ax = plt.subplots(1,figsize=(5,5))\n",
    "loc = plticker.MultipleLocator(base=7.0)\n",
    "\n",
    "for lin, lin_dict in lin_to_cumulative.items():\n",
    "\n",
    "    x = list(lin_dict.keys())\n",
    "    y = list(lin_dict.values())\n",
    "    plt.plot(x,y, color=colours[lin], label=f'Transmission {names[lin]}')\n",
    "    \n",
    "\n",
    "plt.legend()\n",
    "plt.xticks(rotation=90, size=12)\n",
    "plt.yticks(size=12)\n",
    "plt.xlabel(\"Week commencing\", size=12)\n",
    "plt.ylabel(\"Cumulative number of adm2s with samples\", size=12)\n",
    "\n",
    "ax.xaxis.set_major_locator(loc)\n",
    "\n",
    "\n",
    "plt.savefig(f\"../figures/new_adm2s_absolute_time.pdf\", bbox_inches=\"tight\")\n",
    "    \n",
    "plt.show()\n",
    "\n"
   ]
  },
  {
   "cell_type": "code",
   "execution_count": 59,
   "metadata": {},
   "outputs": [],
   "source": [
    "relative = defaultdict(dict)\n",
    "for lin, lin_dict in lin_to_cumulative.items():\n",
    "    new_dict = {}\n",
    "    count = 0\n",
    "    for i,v in lin_dict.items():\n",
    "        count += 1\n",
    "        new_dict[count] = v\n",
    "        \n",
    "    relative[lin] = new_dict"
   ]
  },
  {
   "cell_type": "code",
   "execution_count": 60,
   "metadata": {},
   "outputs": [
    {
     "data": {
      "image/png": "[encoded data removed]",
      "text/plain": [
       "<Figure size 360x360 with 1 Axes>"
      ]
     },
     "metadata": {
      "needs_background": "light"
     },
     "output_type": "display_data"
    }
   ],
   "source": [
    "fig, ax = plt.subplots(1,figsize=(5,5))\n",
    "\n",
    "for lin, lin_dict in relative.items():\n",
    "    \n",
    "    x = list(lin_dict.keys())\n",
    "    y = list(lin_dict.values())\n",
    "    plt.plot(x,y, color=colours[lin], label=f'Transmission {names[lin]}')\n",
    "    \n",
    "    \n",
    "plt.legend()\n",
    "plt.xticks(size=12)\n",
    "plt.yticks(size=12)\n",
    "plt.xlabel(\"Weeks since first sample\", size=12)\n",
    "plt.ylabel(\"Cumulative number of adm2s with samples\", size=12)\n",
    "plt.savefig(f\"../figures/new_utlas_relative_time.pdf\", bbox_inches = \"tight\")\n",
    "\n",
    "\n",
    "plt.show()"
   ]
  },
  {
   "cell_type": "code",
   "execution_count": 11,
   "metadata": {},
   "outputs": [
    {
     "name": "stdout",
     "output_type": "stream",
     "text": [
      "['node1', 'node2', 'length', 'start_long_3395', 'start_lat_3395', 'end_lat_3395', 'end_long_3395', 'start_lat_4326', 'start_long_4326', 'end_long_4326', 'end_lat_4326', 'start_adm2', 'end_adm2', 'start_pc', 'end_pc', 'start_utla', 'end_utla', 'start_code', 'end_code', 'start_dec_date', 'end_dec_date', 'start_real_date', 'end_real_date']\n"
     ]
    }
   ],
   "source": [
    "locations = []\n",
    "with open(\"../results/MCC_files_all/1_51_mcc_data.csv\") as f:\n",
    "    data = csv.DictReader(f)\n",
    "    print(data.fieldnames)\n",
    "    for l in data:\n",
    "        locations.append(l['start_utla'])\n",
    "        \n",
    "    "
   ]
  },
  {
   "cell_type": "code",
   "execution_count": 12,
   "metadata": {},
   "outputs": [],
   "source": [
    "location_counts = Counter(locations)"
   ]
  },
  {
   "cell_type": "code",
   "execution_count": 17,
   "metadata": {},
   "outputs": [],
   "source": [
    "sorted_dict = {k: v for k, v in sorted(location_counts.items(), key=lambda item: item[1], reverse=True)}"
   ]
  },
  {
   "cell_type": "code",
   "execution_count": 18,
   "metadata": {},
   "outputs": [
    {
     "data": {
      "text/plain": [
       "{'BEDFORD_(B)': 1974,\n",
       " 'CENTRAL_BEDFORDSHIRE': 408,\n",
       " 'BUCKINGHAMSHIRE': 200,\n",
       " 'NORTHAMPTONSHIRE_COUNTY': 192,\n",
       " 'HERTFORDSHIRE_COUNTY': 172,\n",
       " 'GREATER_LONDON_AUTHORITY': 156,\n",
       " 'MILTON_KEYNES_(B)': 76,\n",
       " 'ESSEX_COUNTY': 42,\n",
       " 'LUTON_(B)': 28,\n",
       " 'MEDWAY_(B)': 26,\n",
       " 'OXFORDSHIRE_COUNTY': 24,\n",
       " 'CITY_OF_PETERBOROUGH_(B)': 14,\n",
       " 'CAMBRIDGESHIRE_COUNTY': 8,\n",
       " 'LINCOLNSHIRE_COUNTY': 8,\n",
       " 'COVENTRY_DISTRICT_(B)': 6,\n",
       " 'GLOUCESTERSHIRE_COUNTY': 4,\n",
       " 'HALTON_(B)': 4,\n",
       " 'LANCASHIRE_COUNTY': 4,\n",
       " 'LEEDS_DISTRICT_(B)': 2,\n",
       " 'WARWICKSHIRE_COUNTY': 2,\n",
       " 'KENT_COUNTY': 2,\n",
       " 'NORFOLK_COUNTY': 2,\n",
       " 'CHESHIRE_WEST_AND_CHESTER_(B)': 2,\n",
       " 'SURREY_COUNTY': 2}"
      ]
     },
     "execution_count": 18,
     "metadata": {},
     "output_type": "execute_result"
    }
   ],
   "source": [
    "sorted_dict"
   ]
  },
  {
   "cell_type": "code",
   "execution_count": null,
   "metadata": {},
   "outputs": [],
   "source": []
  }
 ],
 "metadata": {
  "kernelspec": {
   "display_name": "Python 3 (ipykernel)",
   "language": "python",
   "name": "python3"
  },
  "language_info": {
   "codemirror_mode": {
    "name": "ipython",
    "version": 3
   },
   "file_extension": ".py",
   "mimetype": "text/x-python",
   "name": "python",
   "nbconvert_exporter": "python",
   "pygments_lexer": "ipython3",
   "version": "3.9.5"
  }
 },
 "nbformat": 4,
 "nbformat_minor": 4
}
